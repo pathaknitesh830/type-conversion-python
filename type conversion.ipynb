{
 "cells": [
  {
   "cell_type": "code",
   "execution_count": 1,
   "id": "a7a21b94-0b67-47af-a9ef-c29e5a28e23d",
   "metadata": {},
   "outputs": [
    {
     "name": "stdout",
     "output_type": "stream",
     "text": [
      "Original Integer: 42\n",
      "Converted to Floating-point: 42.0\n"
     ]
    }
   ],
   "source": [
    "#Python Type Conversion\n",
    "#Assignment No-1 //Covert a integer to a floatig-point number.\n",
    "\n",
    "\n",
    "integer_number = 42\n",
    "floating_point_number = float(integer_number)\n",
    "\n",
    "# Display the result\n",
    "print(\"Original Integer:\", integer_number)\n",
    "print(\"Converted to Floating-point:\", floating_point_number)"
   ]
  },
  {
   "cell_type": "code",
   "execution_count": null,
   "id": "c1ef61af-58c9-4331-b771-eadaead53f3d",
   "metadata": {},
   "outputs": [],
   "source": []
  },
  {
   "cell_type": "code",
   "execution_count": 3,
   "id": "ca14497e-f378-42d7-a978-53316406339a",
   "metadata": {},
   "outputs": [
    {
     "name": "stdout",
     "output_type": "stream",
     "text": [
      "Original Float: 90.8\n",
      "Converted to Integer: 90\n"
     ]
    }
   ],
   "source": [
    "#Assignment no 2//Convert a float to an integer.\n",
    "\n",
    "float_number = 90.80\n",
    "integer_number = int(float_number)\n",
    "\n",
    "# Display the result\n",
    "print(\"Original Float:\", float_number)\n",
    "print(\"Converted to Integer:\", integer_number)"
   ]
  },
  {
   "cell_type": "code",
   "execution_count": null,
   "id": "0b599114-be80-40ea-8ad9-eb284b0be933",
   "metadata": {},
   "outputs": [],
   "source": []
  },
  {
   "cell_type": "code",
   "execution_count": 4,
   "id": "6c73d942-0bb1-4402-9b4e-ebefbf6d2bbf",
   "metadata": {},
   "outputs": [
    {
     "name": "stdout",
     "output_type": "stream",
     "text": [
      "Original Integer: 42\n",
      "Converted to String: 42\n"
     ]
    }
   ],
   "source": [
    "#assignment que no 3//convert an integer to string \n",
    "\n",
    "# Convert an integer to a string\n",
    "integer_number = 42\n",
    "string_repre = str(integer_number)\n",
    "\n",
    "# Display the result\n",
    "print(\"Original Integer:\", integer_number)\n",
    "print(\"Converted to String:\", string_repre)\n"
   ]
  },
  {
   "cell_type": "code",
   "execution_count": null,
   "id": "ef78f3d9-cf8a-464d-94c2-9cb573bd4ecd",
   "metadata": {},
   "outputs": [],
   "source": [
    "\n"
   ]
  },
  {
   "cell_type": "code",
   "execution_count": 5,
   "id": "63c803aa-8f40-4de1-85cd-c8063148cd43",
   "metadata": {},
   "outputs": [
    {
     "name": "stdout",
     "output_type": "stream",
     "text": [
      "Original List: [1, 2, 3, 4, 5]\n",
      "Converted to Tuple: (1, 2, 3, 4, 5)\n"
     ]
    }
   ],
   "source": [
    "#assignment Ques no 4//convert a list to a tuple\n",
    "\n",
    "# Convert a list to a tuple\n",
    "list_values = [1, 2, 3, 4, 5]\n",
    "tuple_values = tuple(list_values)\n",
    "\n",
    "# Display the result\n",
    "print(\"Original List:\", list_values)\n",
    "print(\"Converted to Tuple:\", tuple_values)\n"
   ]
  },
  {
   "cell_type": "code",
   "execution_count": null,
   "id": "1c9563d6-673d-42e8-b87a-930832b6e4cf",
   "metadata": {},
   "outputs": [],
   "source": []
  },
  {
   "cell_type": "code",
   "execution_count": 7,
   "id": "65db1578-14cf-4f53-9e9b-4b110d917386",
   "metadata": {},
   "outputs": [
    {
     "name": "stdout",
     "output_type": "stream",
     "text": [
      "Original Tuple: (50, 60, 70, 80, 89)\n",
      "Converted to List: [50, 60, 70, 80, 89]\n"
     ]
    }
   ],
   "source": [
    "#assignment ques no 5//convert a tuple to a list \n",
    "\n",
    "# Convert a tuple to a list\n",
    "tuple_values = (50, 60, 70, 80, 89)\n",
    "list_values = list(tuple_values)\n",
    "\n",
    "# Display the result\n",
    "print(\"Original Tuple:\", tuple_values)\n",
    "print(\"Converted to List:\", list_values)\n"
   ]
  },
  {
   "cell_type": "code",
   "execution_count": null,
   "id": "67cfe1c3-7d35-48c3-bc57-fa311bdf5dd6",
   "metadata": {},
   "outputs": [],
   "source": []
  },
  {
   "cell_type": "code",
   "execution_count": 8,
   "id": "babec42e-ffec-4970-8f1e-f0aac06fa633",
   "metadata": {},
   "outputs": [
    {
     "name": "stdout",
     "output_type": "stream",
     "text": [
      "Decimal Number: 20\n",
      "Binary Representation: 0b10100\n"
     ]
    }
   ],
   "source": [
    "#assignment que no 6//decimal number to binary \n",
    "\n",
    "# Convert a decimal number to binary\n",
    "\n",
    "decimal_number = 20\n",
    "binary_representation = bin(decimal_number)\n",
    "\n",
    "# Display the result\n",
    "print(\"Decimal Number:\", decimal_number)\n",
    "print(\"Binary Representation:\", binary_representation)\n"
   ]
  },
  {
   "cell_type": "code",
   "execution_count": 9,
   "id": "95566bcc-dbf6-441b-a27b-364b1a1f5f86",
   "metadata": {},
   "outputs": [
    {
     "name": "stdout",
     "output_type": "stream",
     "text": [
      "Original Non-Zero Number: 109\n",
      "Converted to Boolean: True\n"
     ]
    }
   ],
   "source": [
    "\n",
    "#assignment ques no 07\n",
    "\n",
    "\n",
    "# Convert a non-zero number to boolean'\n",
    "\n",
    "non_zero_number = 109\n",
    "boolean_value = bool(non_zero_number)\n",
    "\n",
    "# Display the result\n",
    "print(\"Original Non-Zero Number:\", non_zero_number)\n",
    "print(\"Converted to Boolean:\", boolean_value) \n",
    "\n"
   ]
  },
  {
   "cell_type": "code",
   "execution_count": null,
   "id": "821b2035-08a4-42c4-8908-93cb6d949125",
   "metadata": {},
   "outputs": [],
   "source": []
  }
 ],
 "metadata": {
  "kernelspec": {
   "display_name": "Python 3 (ipykernel)",
   "language": "python",
   "name": "python3"
  },
  "language_info": {
   "codemirror_mode": {
    "name": "ipython",
    "version": 3
   },
   "file_extension": ".py",
   "mimetype": "text/x-python",
   "name": "python",
   "nbconvert_exporter": "python",
   "pygments_lexer": "ipython3",
   "version": "3.10.8"
  }
 },
 "nbformat": 4,
 "nbformat_minor": 5
}
